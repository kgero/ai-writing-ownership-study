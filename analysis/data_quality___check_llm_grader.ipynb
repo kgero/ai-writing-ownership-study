{
 "cells": [
  {
   "cell_type": "code",
   "execution_count": null,
   "id": "68f49211",
   "metadata": {},
   "outputs": [],
   "source": [
    "import pandas as pd"
   ]
  },
  {
   "cell_type": "code",
   "execution_count": null,
   "id": "2f700677",
   "metadata": {},
   "outputs": [],
   "source": [
    "llm_grades_df = pd.read_csv('csv_exports/graded_essays.csv')\n",
    "llm_grades_df = llm_grades_df.rename(columns={\n",
    "    \"Quality_of_argument\": \"llm_arg\",\n",
    "    \"Coherence_and_cohesion\": \"llm_coh\",\n",
    "    \"Lexical_resource_and_grammar\": \"llm_lex\"\n",
    "})\n",
    "llm_grades_df[\"llm_avg\"] = llm_grades_df[[\"llm_arg\", \"llm_coh\", \"llm_lex\"]].mean(axis=1)\n",
    "llm_grades_df.head()"
   ]
  },
  {
   "cell_type": "code",
   "execution_count": null,
   "id": "6ba25fa7",
   "metadata": {},
   "outputs": [],
   "source": [
    "hum_grades_df = pd.read_csv('essay_grading_content/essay_grades.csv')\n",
    "hum_grades_df = hum_grades_df.rename(columns={\n",
    "    \"Prolific Id\": \"participant_id\",\n",
    "    \"Quality of argument\": \"hum_arg\",\n",
    "    \"Coherence and cohesion\": \"hum_coh\",\n",
    "    \"Lexical resource and grammar\": \"hum_lex\"\n",
    "})\n",
    "hum_grades_df[\"hum_avg\"] = hum_grades_df[[\"hum_arg\", \"hum_coh\", \"hum_lex\"]].mean(axis=1)\n",
    "hum_grades_df.head()"
   ]
  },
  {
   "cell_type": "code",
   "execution_count": null,
   "id": "26aa148c",
   "metadata": {},
   "outputs": [],
   "source": [
    "merged_df = pd.merge(llm_grades_df, hum_grades_df, on=\"participant_id\", how=\"inner\")\n",
    "merged_df.head()"
   ]
  },
  {
   "cell_type": "code",
   "execution_count": null,
   "id": "f23fe68d",
   "metadata": {},
   "outputs": [],
   "source": [
    "pid = \"67bd0a210300cd17904fcd28\"\n",
    "\n",
    "print(f\"\\nShape of merged_df: {merged_df.shape}\\n\")\n",
    "\n",
    "print(f\"Checking data for participant_id = {pid}\\n\")\n",
    "\n",
    "print(llm_grades_df.loc[llm_grades_df[\"participant_id\"] == pid].to_string(index=False))\n",
    "print(\"\\n\")\n",
    "print(hum_grades_df.loc[hum_grades_df[\"participant_id\"] == pid].to_string(index=False))\n",
    "print(\"\\n\")\n",
    "print(merged_df.loc[merged_df[\"participant_id\"] == pid].to_string(index=False))\n"
   ]
  },
  {
   "cell_type": "code",
   "execution_count": null,
   "id": "ce913155",
   "metadata": {},
   "outputs": [],
   "source": [
    "# pearson correlation\n",
    "corr = merged_df[\"llm_avg\"].corr(merged_df[\"hum_avg\"])\n",
    "\n",
    "print(f\"Correlation between LLM and Human average scores: {corr:.3f}\")"
   ]
  },
  {
   "cell_type": "code",
   "execution_count": null,
   "id": "cfddda94",
   "metadata": {},
   "outputs": [],
   "source": [
    "import numpy as np\n",
    "import seaborn as sns\n",
    "import matplotlib.pyplot as plt\n",
    "\n",
    "# Copy the data so we don't modify the original\n",
    "plot_df = merged_df.copy()\n",
    "\n",
    "# Add jitter (adjust scale as needed)\n",
    "jitter_strength = 0.1\n",
    "plot_df[\"llm_avg_jitter\"] = plot_df[\"llm_avg\"] + np.random.uniform(\n",
    "    -jitter_strength, jitter_strength, size=len(plot_df)\n",
    ")\n",
    "plot_df[\"hum_avg_jitter\"] = plot_df[\"hum_avg\"] + np.random.uniform(\n",
    "    -jitter_strength, jitter_strength, size=len(plot_df)\n",
    ")\n",
    "\n",
    "# Scatterplot with regression line\n",
    "sns.lmplot(\n",
    "    data=plot_df,\n",
    "    x=\"llm_avg_jitter\",\n",
    "    y=\"hum_avg_jitter\",\n",
    "    height=6,\n",
    "    aspect=1.2,\n",
    "    scatter_kws={\"alpha\": 0.7}\n",
    ")\n",
    "\n",
    "plt.title(\"Correlation between LLM and Human Average Scores (with jitter)\")\n",
    "plt.xlabel(\"LLM Average Score\")\n",
    "plt.ylabel(\"Human Average Score\")\n",
    "plt.show()\n"
   ]
  },
  {
   "cell_type": "code",
   "execution_count": null,
   "id": "24039d5f",
   "metadata": {},
   "outputs": [],
   "source": []
  }
 ],
 "metadata": {
  "kernelspec": {
   "display_name": "Python 3 (ipykernel)",
   "language": "python",
   "name": "python3"
  },
  "language_info": {
   "codemirror_mode": {
    "name": "ipython",
    "version": 3
   },
   "file_extension": ".py",
   "mimetype": "text/x-python",
   "name": "python",
   "nbconvert_exporter": "python",
   "pygments_lexer": "ipython3",
   "version": "3.9.13"
  }
 },
 "nbformat": 4,
 "nbformat_minor": 5
}
