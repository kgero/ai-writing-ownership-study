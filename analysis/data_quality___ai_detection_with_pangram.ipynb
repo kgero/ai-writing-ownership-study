{
 "cells": [
  {
   "cell_type": "code",
   "execution_count": null,
   "id": "54f3e430",
   "metadata": {},
   "outputs": [],
   "source": [
    "!pip install pangram-sdk"
   ]
  },
  {
   "cell_type": "code",
   "execution_count": null,
   "id": "6d73d312",
   "metadata": {},
   "outputs": [],
   "source": [
    "from dotenv import load_dotenv\n",
    "import pandas as pd\n",
    "\n",
    "load_dotenv()\n",
    "\n",
    "from sqlalchemy import create_engine, inspect\n",
    "import os\n",
    "\n",
    "# build URL from the locally‑forwarded port\n",
    "user     = os.getenv(\"DB_USER\")\n",
    "pw       = os.getenv(\"DB_PASSWORD\")\n",
    "host     = os.getenv(\"DB_HOST\")\n",
    "port     = os.getenv(\"DB_PORT\")\n",
    "db       = os.getenv(\"DB_NAME\")\n",
    "engine   = create_engine(f\"postgresql://{user}:{pw}@{host}:{port}/{db}\")"
   ]
  },
  {
   "cell_type": "code",
   "execution_count": null,
   "id": "e337d9b9",
   "metadata": {},
   "outputs": [],
   "source": [
    "from pangram import Pangram\n",
    "\n",
    "pg_api = os.getenv(\"PANGRAM_API\")\n",
    "pangram_client = Pangram(api_key=pg_api)\n",
    "text = \"The quick brown fox jumps over the lazy dog.\"\n",
    "result = pangram_client.predict(text)\n",
    "print(result)"
   ]
  },
  {
   "cell_type": "code",
   "execution_count": null,
   "id": "9f86f18d",
   "metadata": {},
   "outputs": [],
   "source": [
    "surveys = pd.read_sql(\"SELECT * FROM survey_responses;\", engine)\n",
    "surveys.head()"
   ]
  },
  {
   "cell_type": "code",
   "execution_count": null,
   "id": "1bff3c8d",
   "metadata": {},
   "outputs": [],
   "source": [
    "snapshots = pd.read_sql(\"SELECT * FROM text_snapshots;\", engine)\n",
    "snapshots.head()"
   ]
  },
  {
   "cell_type": "code",
   "execution_count": null,
   "id": "c55d5be8",
   "metadata": {},
   "outputs": [],
   "source": [
    "pid_list = []\n",
    "\n",
    "with open(\"pid_for_ai_detection.txt\", \"r\") as fle:\n",
    "    for line in fle:\n",
    "        pid_list.append(line.strip())\n",
    "        \n",
    "len(pid_list), pid_list[0]"
   ]
  },
  {
   "cell_type": "code",
   "execution_count": null,
   "id": "3cd7b975",
   "metadata": {},
   "outputs": [],
   "source": [
    "import json\n",
    "\n",
    "def get_condition(pid):\n",
    "    filtered = surveys[surveys[\"participant_id\"] == pid]\n",
    "    if filtered[\"condition\"].nunique() == 1:\n",
    "        return filtered.iloc[0][\"condition\"]\n",
    "    else:\n",
    "        return \"error\"\n",
    "\n",
    "def get_outline(pid):\n",
    "    \"\"\"\n",
    "    Return submitted outline for provided participant id.\n",
    "    \"\"\"\n",
    "    filtered = snapshots[\n",
    "        (snapshots[\"participant_id\"] == pid) & \n",
    "        (snapshots[\"stage\"] == \"outline\") &\n",
    "        (snapshots[\"type\"] == \"final\")\n",
    "    ]\n",
    "    \n",
    "    if len(filtered) > 1:\n",
    "        return \"error\"\n",
    "    return filtered.iloc[0][\"text_content\"]\n",
    "\n",
    "def run_pangram_on_outline(condition):\n",
    "    if condition == \"2\":\n",
    "        return False\n",
    "    return True\n",
    "    \n",
    "with open(\"pangram_on_outline_r3.txt\", \"w\") as fle:\n",
    "    for pid in pid_list:\n",
    "        outline = get_outline(pid)\n",
    "        cond = get_condition(pid)\n",
    "        pg_results = pangram_client.predict(outline)\n",
    "        ai_pred = pg_results[\"ai_likelihood\"]\n",
    "#         print(f'{pid}\\t{len(outline)}\\t{cond}\\t{to_run}\\t{ai_pred}\\t{pg_results}')\n",
    "        fle.write(f'{pid}\\t{len(outline)}\\t{cond}\\t{to_run}\\t{ai_pred}\\t{json.dumps(pg_results)}\\n')"
   ]
  },
  {
   "cell_type": "code",
   "execution_count": null,
   "id": "8a1cf1bc",
   "metadata": {},
   "outputs": [],
   "source": [
    "def get_draft(pid):\n",
    "    \"\"\"\n",
    "    Return submitted draft for provided participant id.\n",
    "    \"\"\"\n",
    "    filtered = snapshots[\n",
    "        (snapshots[\"participant_id\"] == pid) & \n",
    "        (snapshots[\"stage\"] == \"draft\") &\n",
    "        (snapshots[\"type\"] == \"final\")\n",
    "    ]\n",
    "    \n",
    "    if len(filtered) == 0:\n",
    "        print(\"error: no drafts returned\")\n",
    "        return \"error\"\n",
    "    \n",
    "    if len(filtered) > 1:\n",
    "        print(f\"error: {len(filtered)} drafts returned\")\n",
    "    \n",
    "    return filtered.iloc[0][\"text_content\"]\n",
    "\n",
    "def run_pangram_on_draft(condition):\n",
    "    if condition == \"3\":\n",
    "        return False\n",
    "    return True\n",
    "\n",
    "with open(\"pangram_on_draft_r3.txt\", \"w\") as fle:\n",
    "    for pid in pid_list:\n",
    "        draft = get_draft(pid)\n",
    "        cond = get_condition(pid)\n",
    "        to_run = run_pangram_on_draft(cond)\n",
    "        if draft == \"error\":\n",
    "            to_run = False\n",
    "        pg_results = {}\n",
    "        ai_pred = \"null\"\n",
    "        if to_run:\n",
    "            pg_results = pangram_client.predict(draft)\n",
    "            ai_pred = pg_results[\"ai_likelihood\"]\n",
    "#         print(f'{pid}\\t{len(draft)}\\t{cond}\\t{to_run}\\t{ai_pred}\\t{pg_results}')\n",
    "        fle.write(f'{pid}\\t{len(draft)}\\t{cond}\\t{to_run}\\t{ai_pred}\\t{json.dumps(pg_results)}\\n')"
   ]
  },
  {
   "cell_type": "code",
   "execution_count": null,
   "id": "1e653716",
   "metadata": {},
   "outputs": [],
   "source": []
  }
 ],
 "metadata": {
  "kernelspec": {
   "display_name": "Python 3 (ipykernel)",
   "language": "python",
   "name": "python3"
  },
  "language_info": {
   "codemirror_mode": {
    "name": "ipython",
    "version": 3
   },
   "file_extension": ".py",
   "mimetype": "text/x-python",
   "name": "python",
   "nbconvert_exporter": "python",
   "pygments_lexer": "ipython3",
   "version": "3.9.13"
  }
 },
 "nbformat": 4,
 "nbformat_minor": 5
}
