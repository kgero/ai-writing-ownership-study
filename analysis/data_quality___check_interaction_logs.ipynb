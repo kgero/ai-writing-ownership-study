{
 "cells": [
  {
   "cell_type": "markdown",
   "id": "c21694c6",
   "metadata": {},
   "source": [
    "# Set-up\n",
    "\n",
    "Ensure libraries are installed, connect to database and load all tables into pandas dataframes."
   ]
  },
  {
   "cell_type": "code",
   "execution_count": null,
   "id": "4bd8dd28",
   "metadata": {},
   "outputs": [],
   "source": [
    "!pip install psycopg2 dotenv sqlalchemy pandas numpy==1.26.4 bokeh"
   ]
  },
  {
   "cell_type": "code",
   "execution_count": null,
   "id": "7354aedc",
   "metadata": {},
   "outputs": [],
   "source": [
    "import pandas as pd\n",
    "from dotenv import load_dotenv\n",
    "load_dotenv()\n",
    "\n",
    "from sqlalchemy import create_engine, inspect\n",
    "import os\n",
    "\n",
    "# build URL from the locally‑forwarded port\n",
    "user     = os.getenv(\"DB_USER\")\n",
    "pw       = os.getenv(\"DB_PASSWORD\")\n",
    "host     = os.getenv(\"DB_HOST\")\n",
    "port     = os.getenv(\"DB_PORT\")\n",
    "db       = os.getenv(\"DB_NAME\")\n",
    "engine   = create_engine(f\"postgresql://{user}:{pw}@{host}:{port}/{db}\")"
   ]
  },
  {
   "cell_type": "code",
   "execution_count": null,
   "id": "6e936daf",
   "metadata": {},
   "outputs": [],
   "source": [
    "ilogs = pd.read_sql(\"SELECT * FROM interaction_logs;\", engine)\n",
    "ilogs.head()"
   ]
  },
  {
   "cell_type": "code",
   "execution_count": null,
   "id": "bab37a24",
   "metadata": {},
   "outputs": [],
   "source": [
    "surveys = pd.read_sql(\"SELECT * FROM survey_responses;\", engine)\n",
    "surveys.head()"
   ]
  },
  {
   "cell_type": "code",
   "execution_count": null,
   "id": "d4254da1",
   "metadata": {},
   "outputs": [],
   "source": [
    "snapshots = pd.read_sql(\"SELECT * FROM text_snapshots;\", engine)\n",
    "snapshots.head()"
   ]
  },
  {
   "cell_type": "markdown",
   "id": "76ca5e61",
   "metadata": {},
   "source": [
    "# Check for potential cheating\n",
    "\n",
    "Given a list of participant IDs, run some simple checks (num. keystrokes, time on task) for prohibited AI usage"
   ]
  },
  {
   "cell_type": "code",
   "execution_count": null,
   "id": "9e0842fa",
   "metadata": {},
   "outputs": [],
   "source": [
    "def get_condition(participant_id):\n",
    "    return surveys.loc[surveys[\"participant_id\"] == participant_id][\"condition\"].iloc[0]\n",
    "\n",
    "def get_prompt(participant_id):\n",
    "    return surveys.loc[surveys[\"participant_id\"] == participant_id][\"prompt_id\"].iloc[0]\n",
    "\n",
    "def get_survey_responses(participant_id, survey_type):\n",
    "    filtered = surveys.loc[\n",
    "        (surveys[\"participant_id\"] == participant_id) &\n",
    "        (surveys[\"survey_type\"] == survey_type)\n",
    "    ][\"responses\"]\n",
    "    if len(filtered) == 1:\n",
    "        return filtered.iloc[0]\n",
    "    else:\n",
    "        return False"
   ]
  },
  {
   "cell_type": "code",
   "execution_count": null,
   "id": "c2d06000",
   "metadata": {},
   "outputs": [],
   "source": [
    "set([event_type.split(\":\")[0] for event_type in ilogs[\"event_type\"].unique()])"
   ]
  },
  {
   "cell_type": "code",
   "execution_count": null,
   "id": "ed6324e3",
   "metadata": {},
   "outputs": [],
   "source": [
    "import json\n",
    "\n",
    "def get_num_keystrokes(pid):\n",
    "    local = ilogs.loc[ilogs[\"participant_id\"] == pid]\n",
    "    count = local['event_type'].str.contains('keystroke').sum()\n",
    "    return count\n",
    "\n",
    "def get_time_on_task(pid, stage):\n",
    "    # return in minutes\n",
    "    filtered = snapshots.loc[\n",
    "        (snapshots[\"participant_id\"] == pid) & \n",
    "        (snapshots[\"type\"] == \"final\") &\n",
    "        (snapshots[\"stage\"] == stage)\n",
    "    ]\n",
    "    if len(filtered) == 1:\n",
    "        return filtered.iloc[0][\"time_from_stage_start\"]/60\n",
    "    else:\n",
    "        return \"null\"\n",
    "\n",
    "def get_large_paste_event(pid):\n",
    "    filtered = ilogs.loc[\n",
    "        (ilogs[\"participant_id\"] == pid) & \n",
    "        (ilogs[\"event_type\"].str.contains(\"paste\"))\n",
    "    ]\n",
    "    \n",
    "    if len(local) > 0:\n",
    "        sizes = filtered[\"event_data\"].apply(\n",
    "            lambda x: len(x[\"text\"]) if pd.notnull(x) else 0\n",
    "        )\n",
    "        return sizes.max()\n",
    "    else:\n",
    "        return \"null\""
   ]
  },
  {
   "cell_type": "code",
   "execution_count": null,
   "id": "8fdc4d8f",
   "metadata": {},
   "outputs": [],
   "source": [
    "id_list = \"\"\"\n",
    "6779c8fd10ec19bf89b5f9d8\n",
    "67cf28a2280e7e75fbbacbff\n",
    "67d09ba717ec412519ebf44b\n",
    "67e71c9c4c220e0f0df2ef30\"\"\".strip().splitlines()"
   ]
  },
  {
   "cell_type": "code",
   "execution_count": null,
   "id": "4a892cac",
   "metadata": {},
   "outputs": [],
   "source": [
    "with open(\"check_ids.csv\", \"w\") as fle:\n",
    "    for i in id_list:\n",
    "        condition = get_condition(i)\n",
    "        prompt = get_prompt(i)\n",
    "        pilot = \"N\"\n",
    "        keystrokes = get_num_keystrokes(i)\n",
    "        paste = get_large_paste_event(i)\n",
    "        outline = get_time_on_task(i, \"outline\")\n",
    "        draft = get_time_on_task(i, \"draft\")\n",
    "        revision = get_time_on_task(i, \"revision\")\n",
    "        pre = 1 if get_survey_responses(i, \"pre\") else 0\n",
    "        post = 1 if get_survey_responses(i, \"post\") else 0\n",
    "        fle.write(f\"{i},{condition},{prompt},{pilot},{keystrokes},{paste},{outline},{draft},{revision},{pre},{post}\\n\")"
   ]
  },
  {
   "cell_type": "markdown",
   "id": "e279116d",
   "metadata": {},
   "source": [
    "# Visually inspect single partipant\n",
    "\n",
    "Look at survey results and timelines for a single participant."
   ]
  },
  {
   "cell_type": "code",
   "execution_count": null,
   "id": "d5f61c62",
   "metadata": {},
   "outputs": [],
   "source": [
    "from bokeh.transform import factor_cmap\n",
    "from bokeh.palettes import Category10\n",
    "from bokeh.transform import factor_cmap, factor_mark\n",
    "from bokeh.layouts import column\n",
    "from bokeh.models import ColumnDataSource, HoverTool, Segment, Text, Div\n",
    "from bokeh.plotting import figure, show\n",
    "from bokeh.io import output_notebook\n",
    "\n",
    "\n",
    "output_notebook()"
   ]
  },
  {
   "cell_type": "code",
   "execution_count": null,
   "id": "431b3d8e",
   "metadata": {},
   "outputs": [],
   "source": [
    "def add_extra_col(participant_id):\n",
    "    p_ilogs = ilogs.loc[ilogs[\"participant_id\"] == participant_id]\n",
    "\n",
    "    local = p_ilogs.copy()\n",
    "\n",
    "    def label_events(row):\n",
    "        if \"keystroke:paste\" in row['event_type']:\n",
    "            return \"paste\"\n",
    "        if \"keystroke:copy\" in row['event_type']:\n",
    "            return \"cut/copy\"\n",
    "        if \"keystroke:cut\" in row['event_type']:\n",
    "            return \"cut/copy\"\n",
    "        if \"keystroke\" in row['event_type']:\n",
    "            return \"keystroke\"\n",
    "        if \"api_call\" in row['event_type']:\n",
    "            return \"api_call\"\n",
    "        if \"browser\" in row['event_type']:\n",
    "            return \"browser_event\"\n",
    "        if \"button\" in row['event_type']:\n",
    "            return \"button_press\"\n",
    "        if \"text_selection\" in row['event_type']:\n",
    "            return \"text_selection\"\n",
    "        return \"null\"\n",
    "\n",
    "    local[\"cat_event_type\"] = local.apply(label_events, axis=1)\n",
    "\n",
    "    local[\"minutes_from_stage_start\"] = local[\"time_from_stage_start\"] / 60000\n",
    "    \n",
    "    return local"
   ]
  },
  {
   "cell_type": "code",
   "execution_count": null,
   "id": "f0921de0",
   "metadata": {},
   "outputs": [],
   "source": [
    "def make_whole_timeline(participant_id):\n",
    "    \n",
    "    p_ilogs = ilogs.loc[ilogs[\"participant_id\"] == participant_id]\n",
    "    local = p_ilogs.copy()\n",
    "    \n",
    "    stage_factors = [\"Outline\", \"Draft\", \"Revision\"]\n",
    "    num_stages = len(stage_factors)\n",
    "\n",
    "    source = ColumnDataSource(data=local)\n",
    "\n",
    "    p = figure(\n",
    "        width=800, \n",
    "        height=400,\n",
    "        title=f\"High-level Timeline for Participant {participant_id}\",\n",
    "        x_axis_label=\"Timestamp\",\n",
    "        y_axis_label=\"Time from Stage Start\"\n",
    "    )\n",
    "\n",
    "    p.scatter(\n",
    "        x=\"created_at\", \n",
    "        y=\"time_from_stage_start\",\n",
    "        color=factor_cmap('stage', f'Category10_{num_stages}', stage_factors),\n",
    "        source=source,\n",
    "        size=12,\n",
    "        fill_alpha=.4,\n",
    "        legend_field=\"stage\"\n",
    "    )\n",
    "\n",
    "\n",
    "    hover = HoverTool(tooltips=[('event_type', '@event_type')])\n",
    "    p.add_tools(hover)\n",
    "\n",
    "    show(p)"
   ]
  },
  {
   "cell_type": "code",
   "execution_count": null,
   "id": "a3dd443e",
   "metadata": {},
   "outputs": [],
   "source": [
    "def make_stages_timeline(participant_id):\n",
    "    \n",
    "    local = add_extra_col(participant_id)\n",
    "    \n",
    "    stages = [\"Outline\", \"Draft\", \"Revision\"]\n",
    "    event_factors = list(local[\"cat_event_type\"].unique())\n",
    "    num_events = len(event_factors)\n",
    "\n",
    "    shared_x_range = (0,16)\n",
    "    shared_y_range = (0,2)\n",
    "\n",
    "    annotation_map = {\n",
    "        \"browser_event\": {\"offset\": 0.9, \"icon\": \"⌕\"},\n",
    "        \"api_call\": {\"offset\": -0.3, \"icon\": \"⚡︎\"},\n",
    "        \"button_press\": {\"offset\": 0.3, \"icon\": \"▶\"},\n",
    "        \"paste\": {\"offset\": -0.6, \"icon\": \"⤵\"},\n",
    "        \"cut/copy\": {\"offset\": 0.6, \"icon\": \"✂\"},\n",
    "    }\n",
    "    \n",
    "    for key, val in annotation_map.items():\n",
    "        print(f'{val[\"icon\"]} - {key}')\n",
    "\n",
    "\n",
    "    def make_stage_plot(stage, x_range, show_legend=False):\n",
    "\n",
    "        stage_data = local.loc[local[\"stage\"] == stage].copy()\n",
    "        stage_data[\"y\"] = 1\n",
    "\n",
    "        source = ColumnDataSource(data=stage_data)\n",
    "\n",
    "        p = figure(\n",
    "            width=800, \n",
    "            height=150,\n",
    "            x_range=x_range,\n",
    "            y_range=shared_y_range,\n",
    "            title=f\"Stage: {stage}; Condition: {get_condition(participant_id)}; Id: {participant_id}\",\n",
    "            x_axis_label=\"Minutes from Stage Start\",\n",
    "            y_axis_label=\"\"\n",
    "        )\n",
    "\n",
    "        p.scatter(\n",
    "            x=\"minutes_from_stage_start\", \n",
    "            y=\"y\",\n",
    "            color=factor_cmap('cat_event_type', f'Category10_{num_events}', event_factors),\n",
    "            source=source,\n",
    "            size=12,\n",
    "            fill_alpha=.5,\n",
    "            line_color=None,\n",
    "            legend_field=\"cat_event_type\"\n",
    "        )\n",
    "\n",
    "        # Add annotations\n",
    "        for event_type, props in annotation_map.items():\n",
    "            event_rows = stage_data[stage_data[\"cat_event_type\"] == event_type]\n",
    "            if event_rows.empty:\n",
    "                continue\n",
    "\n",
    "            x = event_rows[\"minutes_from_stage_start\"]\n",
    "            y0 = event_rows[\"y\"]\n",
    "            y1 = y0 + props[\"offset\"]\n",
    "\n",
    "\n",
    "            annotation_source = ColumnDataSource(data=dict(\n",
    "                x=x,\n",
    "                x2=x,\n",
    "                y0=y0,\n",
    "                y1=y1,\n",
    "                icon=[props[\"icon\"]] * len(x),\n",
    "                icon_y=y1,\n",
    "            ))\n",
    "\n",
    "            # Add line (stem)\n",
    "            p.segment(x0=\"x\", y0=\"y0\", x1=\"x2\", y1=\"y1\", source=annotation_source, \n",
    "                      line_width=1, line_color=\"grey\")\n",
    "\n",
    "            # Add icon at end\n",
    "            p.text(x=\"x\", y=\"icon_y\", text=\"icon\", source=annotation_source,\n",
    "                   text_align=\"center\", text_baseline=\"middle\", text_font_size=\"10pt\")\n",
    "\n",
    "\n",
    "\n",
    "        hover = HoverTool(tooltips=[('event_type', '@event_type')])\n",
    "        p.add_tools(hover)\n",
    "\n",
    "        if show_legend:\n",
    "            p.add_layout(p.legend[0], 'above')  # Moves legend out of main plot area\n",
    "        else:\n",
    "            p.legend.visible = False\n",
    "\n",
    "        p.yaxis.visible = False         # hides the axis (line, ticks, and labels)\n",
    "\n",
    "        return p\n",
    "\n",
    "    plots = [make_stage_plot(stage, shared_x_range, show_legend=False) for stage in stages]\n",
    "    header = Div(text=f\"<h2>Event Timeline for Participant {participant_id}</h2>\", width=800)\n",
    "    show(column(*plots))"
   ]
  },
  {
   "cell_type": "code",
   "execution_count": null,
   "id": "2c2351a4",
   "metadata": {},
   "outputs": [],
   "source": [
    "pid = \"65e1f75ab3efd22e847cfbf0\"\n",
    "get_survey_responses(pid, \"pre\"), get_survey_responses(pid, \"post\")"
   ]
  },
  {
   "cell_type": "code",
   "execution_count": null,
   "id": "26d297dc",
   "metadata": {},
   "outputs": [],
   "source": [
    "make_whole_timeline(pid)"
   ]
  },
  {
   "cell_type": "code",
   "execution_count": null,
   "id": "dfc6f6c5",
   "metadata": {},
   "outputs": [],
   "source": [
    "print(get_condition(pid), get_prompt(pid))\n",
    "make_stages_timeline(pid)"
   ]
  },
  {
   "cell_type": "code",
   "execution_count": null,
   "id": "81bb1bcd",
   "metadata": {},
   "outputs": [],
   "source": [
    "local = ilogs.loc[(ilogs[\"participant_id\"] == pid) & \n",
    "                  (ilogs[\"event_type\"].str.contains(\"paste\"))]\n",
    "\n",
    "print(pid)\n",
    "for index, row in local.iterrows():\n",
    "    print(f\"\\n{row['stage']}\\n\\n{row['event_data']}\\n\")"
   ]
  },
  {
   "cell_type": "code",
   "execution_count": null,
   "id": "b262cd32",
   "metadata": {},
   "outputs": [],
   "source": [
    "local = snapshots.loc[(snapshots[\"participant_id\"] == pid) & (snapshots[\"type\"] == \"final\")]\n",
    "\n",
    "# with pd.option_context('display.max_colwidth', None):\n",
    "#   display(local)\n",
    "\n",
    "print(pid, \"\\n\")\n",
    "\n",
    "for index, row in local.iterrows():\n",
    "    print(row[\"stage\"], \"\\n\\n\", row[\"created_at\"], \"\\n\\n\", row[\"text_content\"], \"\\n\\n*****\\n\")"
   ]
  },
  {
   "cell_type": "code",
   "execution_count": null,
   "id": "97c164d6",
   "metadata": {},
   "outputs": [],
   "source": [
    "local = snapshots.loc[(snapshots[\"participant_id\"] == pid) & (snapshots[\"type\"] == \"partial\")]\n",
    "local = local.sort_values(by=\"created_at\")\n",
    "\n",
    "print(pid, \"\\n\")\n",
    "\n",
    "for index, row in local.iterrows():\n",
    "    print(row[\"stage\"], \"\\n\\n\", row[\"created_at\"], \"\\n\\n\", row[\"text_content\"], \"\\n\\n*****\\n\")"
   ]
  },
  {
   "cell_type": "code",
   "execution_count": null,
   "id": "58e5dddb",
   "metadata": {},
   "outputs": [],
   "source": []
  },
  {
   "cell_type": "code",
   "execution_count": null,
   "id": "eba306bc",
   "metadata": {},
   "outputs": [],
   "source": [
    "pid = \"6710074f43e0ed058e49ccc6\"\n",
    "\n",
    "filtered = surveys.loc[surveys[\"participant_id\"] == pid]\n",
    "filtered"
   ]
  },
  {
   "cell_type": "code",
   "execution_count": null,
   "id": "5d5b3975",
   "metadata": {},
   "outputs": [],
   "source": []
  }
 ],
 "metadata": {
  "kernelspec": {
   "display_name": "Python 3 (ipykernel)",
   "language": "python",
   "name": "python3"
  },
  "language_info": {
   "codemirror_mode": {
    "name": "ipython",
    "version": 3
   },
   "file_extension": ".py",
   "mimetype": "text/x-python",
   "name": "python",
   "nbconvert_exporter": "python",
   "pygments_lexer": "ipython3",
   "version": "3.9.13"
  }
 },
 "nbformat": 4,
 "nbformat_minor": 5
}
