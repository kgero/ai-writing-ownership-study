{
 "cells": [
  {
   "cell_type": "markdown",
   "id": "fbd3a456",
   "metadata": {},
   "source": [
    "# Export data to CSVs for regressions\n",
    "\n",
    "## Connect to Postgres database"
   ]
  },
  {
   "cell_type": "code",
   "execution_count": null,
   "id": "568c4803",
   "metadata": {},
   "outputs": [],
   "source": [
    "import pandas as pd\n",
    "from dotenv import load_dotenv\n",
    "load_dotenv()\n",
    "\n",
    "from sqlalchemy import create_engine, inspect\n",
    "import os\n",
    "\n",
    "# build URL from the locally‑forwarded port\n",
    "user     = os.getenv(\"DB_USER\")\n",
    "pw       = os.getenv(\"DB_PASSWORD\")\n",
    "host     = os.getenv(\"DB_HOST\")\n",
    "port     = os.getenv(\"DB_PORT\")\n",
    "db       = os.getenv(\"DB_NAME\")\n",
    "engine   = create_engine(f\"postgresql://{user}:{pw}@{host}:{port}/{db}\")"
   ]
  },
  {
   "cell_type": "code",
   "execution_count": null,
   "id": "d15395aa",
   "metadata": {},
   "outputs": [],
   "source": [
    "ilogs = pd.read_sql(\"SELECT * FROM interaction_logs;\", engine)\n",
    "ilogs.head()"
   ]
  },
  {
   "cell_type": "code",
   "execution_count": null,
   "id": "a7a780b7",
   "metadata": {},
   "outputs": [],
   "source": [
    "surveys = pd.read_sql(\"SELECT * FROM survey_responses;\", engine)\n",
    "surveys.head()"
   ]
  },
  {
   "cell_type": "code",
   "execution_count": null,
   "id": "04d2f77d",
   "metadata": {},
   "outputs": [],
   "source": [
    "snapshots = pd.read_sql(\"SELECT * FROM text_snapshots;\", engine)\n",
    "snapshots.head()"
   ]
  },
  {
   "cell_type": "markdown",
   "id": "18450709",
   "metadata": {},
   "source": [
    "## Get list of accepted participants"
   ]
  },
  {
   "cell_type": "code",
   "execution_count": null,
   "id": "ebd39ec0",
   "metadata": {},
   "outputs": [],
   "source": [
    "pid_list = []\n",
    "\n",
    "with open(\"pid_accepted.txt\", \"r\") as fle:\n",
    "    for line in fle:\n",
    "        pid_list.append(line.strip())\n",
    "        \n",
    "len(pid_list), pid_list[0]"
   ]
  },
  {
   "cell_type": "markdown",
   "id": "c64348f2",
   "metadata": {},
   "source": [
    "## Export pre-survey data"
   ]
  },
  {
   "cell_type": "code",
   "execution_count": null,
   "id": "7f68383c",
   "metadata": {},
   "outputs": [],
   "source": [
    "filtered = surveys.loc[\n",
    "    (surveys[\"participant_id\"].isin(pid_list)) &\n",
    "    (surveys[\"survey_type\"] == \"pre\")\n",
    "]\n",
    "\n",
    "filtered = filtered.drop_duplicates(subset=\"participant_id\", keep=\"last\")\n",
    "\n",
    "print(len(filtered), len(pid_list))\n",
    "\n",
    "filtered.head()"
   ]
  },
  {
   "cell_type": "code",
   "execution_count": null,
   "id": "990a74b3",
   "metadata": {},
   "outputs": [],
   "source": [
    "import json\n",
    "\n",
    "def enrich_response(row):\n",
    "    resp = row[\"responses\"]\n",
    "    if isinstance(resp, str):\n",
    "        try:\n",
    "            resp = json.loads(resp)\n",
    "        except:\n",
    "            resp = {}\n",
    "\n",
    "    enriched = {\n",
    "        **resp,  # unpack original keys\n",
    "        \"participant_id\": row[\"participant_id\"],\n",
    "        \"prompt_id\": row[\"prompt_id\"], \n",
    "        \"condition\": row[\"condition\"]\n",
    "    }\n",
    "    return enriched\n",
    "\n",
    "filtered[\"responses_enriched\"] = filtered.apply(enrich_response, axis=1)\n",
    "filtered"
   ]
  },
  {
   "cell_type": "code",
   "execution_count": null,
   "id": "f976a4ae",
   "metadata": {},
   "outputs": [],
   "source": [
    "responses = filtered[\"responses_enriched\"].to_list()\n",
    "\n",
    "presurvey = pd.DataFrame(responses)\n",
    "presurvey.head()"
   ]
  },
  {
   "cell_type": "code",
   "execution_count": null,
   "id": "3f2e96e8",
   "metadata": {},
   "outputs": [],
   "source": [
    "presurvey.to_csv('csv_exports/presurvey.csv', index=False)"
   ]
  },
  {
   "cell_type": "markdown",
   "id": "9ceda841",
   "metadata": {},
   "source": [
    "## Export post-survey data"
   ]
  },
  {
   "cell_type": "code",
   "execution_count": null,
   "id": "e9cda19d",
   "metadata": {},
   "outputs": [],
   "source": [
    "filtered = surveys.loc[\n",
    "    (surveys[\"participant_id\"].isin(pid_list)) &\n",
    "    (surveys[\"survey_type\"] == \"post\")\n",
    "]\n",
    "\n",
    "filtered = filtered.drop_duplicates(subset=\"participant_id\", keep=\"last\")\n",
    "\n",
    "print(len(filtered), len(pid_list))\n",
    "\n",
    "filtered[\"responses_enriched\"] = filtered.apply(enrich_response, axis=1)\n",
    "filtered.head()"
   ]
  },
  {
   "cell_type": "code",
   "execution_count": null,
   "id": "c7884772",
   "metadata": {},
   "outputs": [],
   "source": [
    "responses = filtered[\"responses_enriched\"].to_list()\n",
    "\n",
    "postsurvey = pd.DataFrame(responses)\n",
    "postsurvey.head()"
   ]
  },
  {
   "cell_type": "code",
   "execution_count": null,
   "id": "e0287a88",
   "metadata": {},
   "outputs": [],
   "source": [
    "postsurvey.to_csv('csv_exports/postsurvey.csv', index=False)"
   ]
  },
  {
   "cell_type": "code",
   "execution_count": null,
   "id": "46000b6c",
   "metadata": {},
   "outputs": [],
   "source": []
  }
 ],
 "metadata": {
  "kernelspec": {
   "display_name": "Python 3 (ipykernel)",
   "language": "python",
   "name": "python3"
  },
  "language_info": {
   "codemirror_mode": {
    "name": "ipython",
    "version": 3
   },
   "file_extension": ".py",
   "mimetype": "text/x-python",
   "name": "python",
   "nbconvert_exporter": "python",
   "pygments_lexer": "ipython3",
   "version": "3.9.13"
  }
 },
 "nbformat": 4,
 "nbformat_minor": 5
}
