{
 "cells": [
  {
   "cell_type": "code",
   "execution_count": null,
   "id": "24ed1604",
   "metadata": {},
   "outputs": [],
   "source": [
    "!pip install seaborn"
   ]
  },
  {
   "cell_type": "code",
   "execution_count": null,
   "id": "0fd30481",
   "metadata": {},
   "outputs": [],
   "source": [
    "from dotenv import load_dotenv\n",
    "import pandas as pd\n",
    "\n",
    "load_dotenv()\n",
    "\n",
    "from sqlalchemy import create_engine, inspect\n",
    "import os\n",
    "\n",
    "# build URL from the locally‑forwarded port\n",
    "user     = os.getenv(\"DB_USER\")\n",
    "pw       = os.getenv(\"DB_PASSWORD\")\n",
    "host     = os.getenv(\"DB_HOST\")\n",
    "port     = os.getenv(\"DB_PORT\")\n",
    "db       = os.getenv(\"DB_NAME\")\n",
    "engine   = create_engine(f\"postgresql://{user}:{pw}@{host}:{port}/{db}\")"
   ]
  },
  {
   "cell_type": "code",
   "execution_count": null,
   "id": "c1349dd8",
   "metadata": {},
   "outputs": [],
   "source": [
    "surveys = pd.read_sql(\"SELECT * FROM survey_responses;\", engine)\n",
    "surveys.head()"
   ]
  },
  {
   "cell_type": "code",
   "execution_count": null,
   "id": "ef2fb72d",
   "metadata": {},
   "outputs": [],
   "source": [
    "pid_list = []\n",
    "\n",
    "with open(\"pid_accepted.txt\", \"r\") as fle:\n",
    "    for line in fle:\n",
    "        pid_list.append(line.strip())\n",
    "        \n",
    "len(pid_list), pid_list[0]"
   ]
  },
  {
   "cell_type": "code",
   "execution_count": null,
   "id": "02d8cc33",
   "metadata": {},
   "outputs": [],
   "source": [
    "filtered = surveys.loc[surveys[\"participant_id\"].isin(pid_list)]\n",
    "filtered"
   ]
  },
  {
   "cell_type": "code",
   "execution_count": null,
   "id": "3f2088fc",
   "metadata": {},
   "outputs": [],
   "source": [
    "filtered = surveys.loc[\n",
    "    (surveys[\"participant_id\"].isin(pid_list)) &\n",
    "    (surveys[\"survey_type\"] == \"pre\")\n",
    "]\n",
    "\n",
    "filtered = filtered.drop_duplicates(subset=\"participant_id\", keep=\"last\")\n",
    "\n",
    "print(len(filtered), len(pid_list))\n",
    "\n",
    "# need to get rid of duplicate responses\n",
    "\n",
    "responses = filtered[\"responses\"].to_list()\n",
    "\n",
    "presurvey = pd.DataFrame(responses)\n",
    "presurvey.dtypes"
   ]
  },
  {
   "cell_type": "code",
   "execution_count": null,
   "id": "34d4c6c9",
   "metadata": {},
   "outputs": [],
   "source": [
    "# check for weird values\n",
    "\n",
    "# Mask: True if element is not str or int\n",
    "mask = ~presurvey.map(lambda x: isinstance(x, (str, int)))\n",
    "\n",
    "# Select rows where any column fails the check\n",
    "bad_rows = presurvey[mask.any(axis=1)]\n",
    "\n",
    "bad_rows"
   ]
  },
  {
   "cell_type": "code",
   "execution_count": null,
   "id": "a8402865",
   "metadata": {},
   "outputs": [],
   "source": [
    "import seaborn as sns\n",
    "\n",
    "sns.histplot(data=presurvey, x=\"age\")"
   ]
  },
  {
   "cell_type": "code",
   "execution_count": null,
   "id": "f415d547",
   "metadata": {},
   "outputs": [],
   "source": [
    "sns.histplot(data=presurvey, x=\"gender\")"
   ]
  },
  {
   "cell_type": "code",
   "execution_count": null,
   "id": "6b9c9bff",
   "metadata": {},
   "outputs": [],
   "source": [
    "sns.histplot(data=presurvey, x=\"education\")"
   ]
  },
  {
   "cell_type": "code",
   "execution_count": null,
   "id": "520536b4",
   "metadata": {},
   "outputs": [],
   "source": [
    "sns.histplot(data=presurvey, x=\"nativeEnglish\")"
   ]
  },
  {
   "cell_type": "code",
   "execution_count": null,
   "id": "f2f277c4",
   "metadata": {},
   "outputs": [],
   "source": []
  }
 ],
 "metadata": {
  "kernelspec": {
   "display_name": "Python 3 (ipykernel)",
   "language": "python",
   "name": "python3"
  },
  "language_info": {
   "codemirror_mode": {
    "name": "ipython",
    "version": 3
   },
   "file_extension": ".py",
   "mimetype": "text/x-python",
   "name": "python",
   "nbconvert_exporter": "python",
   "pygments_lexer": "ipython3",
   "version": "3.9.13"
  }
 },
 "nbformat": 4,
 "nbformat_minor": 5
}
