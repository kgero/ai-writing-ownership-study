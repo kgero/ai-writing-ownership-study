{
 "cells": [
  {
   "cell_type": "code",
   "execution_count": null,
   "id": "8761e120",
   "metadata": {},
   "outputs": [],
   "source": [
    "!pip install psycopg2 dotenv sqlalchemy pandas numpy==1.26.4 bokeh"
   ]
  },
  {
   "cell_type": "code",
   "execution_count": null,
   "id": "7354aedc",
   "metadata": {},
   "outputs": [],
   "source": [
    "# installs, imports, dotenv…\n",
    "from dotenv import load_dotenv\n",
    "load_dotenv()\n",
    "\n",
    "from sqlalchemy import create_engine, inspect\n",
    "import os\n",
    "\n",
    "# build URL from the locally‑forwarded port\n",
    "user     = os.getenv(\"DB_USER\")\n",
    "pw       = os.getenv(\"DB_PASSWORD\")\n",
    "host     = os.getenv(\"DB_HOST\")\n",
    "port     = os.getenv(\"DB_PORT\")\n",
    "db       = os.getenv(\"DB_NAME\")\n",
    "engine   = create_engine(f\"postgresql://{user}:{pw}@{host}:{port}/{db}\")"
   ]
  },
  {
   "cell_type": "code",
   "execution_count": null,
   "id": "a58e2620",
   "metadata": {},
   "outputs": [],
   "source": [
    "from bokeh.transform import factor_cmap\n",
    "from bokeh.palettes import Category10\n",
    "from bokeh.transform import factor_cmap, factor_mark\n",
    "from bokeh.layouts import column\n",
    "from bokeh.models import ColumnDataSource, HoverTool, Segment, Text, Div\n",
    "from bokeh.plotting import figure, show\n",
    "from bokeh.io import output_notebook\n",
    "\n",
    "\n",
    "output_notebook()"
   ]
  },
  {
   "cell_type": "code",
   "execution_count": null,
   "id": "76537a41",
   "metadata": {},
   "outputs": [],
   "source": [
    "import pandas as pd\n",
    "\n",
    "# inspect tables\n",
    "inspector = inspect(engine)\n",
    "print(\"Tables:\", inspector.get_table_names())"
   ]
  },
  {
   "cell_type": "code",
   "execution_count": null,
   "id": "43e15d48",
   "metadata": {},
   "outputs": [],
   "source": [
    "ilogs = pd.read_sql(\"SELECT * FROM interaction_logs;\", engine)\n",
    "ilogs.head()"
   ]
  },
  {
   "cell_type": "code",
   "execution_count": null,
   "id": "0588089c",
   "metadata": {},
   "outputs": [],
   "source": [
    "surveys = pd.read_sql(\"SELECT * FROM survey_responses;\", engine)\n",
    "surveys.head()"
   ]
  },
  {
   "cell_type": "code",
   "execution_count": null,
   "id": "8b010d04",
   "metadata": {},
   "outputs": [],
   "source": [
    "snapshots = pd.read_sql(\"SELECT * FROM text_snapshots;\", engine)\n",
    "snapshots.head()"
   ]
  },
  {
   "cell_type": "code",
   "execution_count": null,
   "id": "1781f665",
   "metadata": {},
   "outputs": [],
   "source": [
    "participant_id = \"5f48002958dd331635f1d767\"\n",
    "p_ilogs = ilogs.loc[ilogs[\"participant_id\"] == participant_id]\n",
    "p_ilogs.head()"
   ]
  },
  {
   "cell_type": "code",
   "execution_count": null,
   "id": "1e4031c0",
   "metadata": {},
   "outputs": [],
   "source": [
    "p_ilogs[\"event_type\"].unique()"
   ]
  },
  {
   "cell_type": "code",
   "execution_count": null,
   "id": "cabddfc4",
   "metadata": {},
   "outputs": [],
   "source": [
    "set([event_type.split(\":\")[0] for event_type in ilogs[\"event_type\"].unique()])"
   ]
  },
  {
   "cell_type": "code",
   "execution_count": null,
   "id": "4b1fcae9",
   "metadata": {},
   "outputs": [],
   "source": [
    "def add_extra_col(participant_id):\n",
    "    p_ilogs = ilogs.loc[ilogs[\"participant_id\"] == participant_id]\n",
    "\n",
    "    local = p_ilogs.copy()\n",
    "\n",
    "    def label_events(row):\n",
    "        if \"keystroke:paste\" in row['event_type']:\n",
    "            return \"paste\"\n",
    "        if \"keystroke:copy\" in row['event_type']:\n",
    "            return \"cut/copy\"\n",
    "        if \"keystroke:cut\" in row['event_type']:\n",
    "            return \"cut/copy\"\n",
    "        if \"keystroke\" in row['event_type']:\n",
    "            return \"keystroke\"\n",
    "        if \"api_call\" in row['event_type']:\n",
    "            return \"api_call\"\n",
    "        if \"browser\" in row['event_type']:\n",
    "            return \"browser_event\"\n",
    "        if \"button\" in row['event_type']:\n",
    "            return \"button_press\"\n",
    "        if \"text_selection\" in row['event_type']:\n",
    "            return \"text_selection\"\n",
    "        return \"null\"\n",
    "\n",
    "    local[\"cat_event_type\"] = local.apply(label_events, axis=1)\n",
    "\n",
    "    local[\"minutes_from_stage_start\"] = local[\"time_from_stage_start\"] / 60000\n",
    "    \n",
    "    return local"
   ]
  },
  {
   "cell_type": "code",
   "execution_count": null,
   "id": "76757a66",
   "metadata": {},
   "outputs": [],
   "source": [
    "def make_whole_timeline(participant_id):\n",
    "    \n",
    "    p_ilogs = ilogs.loc[ilogs[\"participant_id\"] == participant_id]\n",
    "    local = p_ilogs.copy()\n",
    "    \n",
    "    stage_factors = [\"Outline\", \"Draft\", \"Revision\"]\n",
    "    num_stages = len(stage_factors)\n",
    "\n",
    "    source = ColumnDataSource(data=local)\n",
    "\n",
    "    p = figure(\n",
    "        width=800, \n",
    "        height=400,\n",
    "        title=f\"High-level Timeline for Participant {participant_id}\",\n",
    "        x_axis_label=\"Timestamp\",\n",
    "        y_axis_label=\"Time from Stage Start\"\n",
    "    )\n",
    "\n",
    "    p.scatter(\n",
    "        x=\"created_at\", \n",
    "        y=\"time_from_stage_start\",\n",
    "        color=factor_cmap('stage', f'Category10_{num_stages}', stage_factors),\n",
    "        source=source,\n",
    "        size=12,\n",
    "        fill_alpha=.4,\n",
    "        legend_field=\"stage\"\n",
    "    )\n",
    "\n",
    "\n",
    "    hover = HoverTool(tooltips=[('event_type', '@event_type')])\n",
    "    p.add_tools(hover)\n",
    "\n",
    "    show(p)"
   ]
  },
  {
   "cell_type": "code",
   "execution_count": null,
   "id": "6fdbaff4",
   "metadata": {},
   "outputs": [],
   "source": [
    "def make_stages_timeline(participant_id):\n",
    "    \n",
    "    local = add_extra_col(participant_id)\n",
    "    \n",
    "    stages = [\"Outline\", \"Draft\", \"Revision\"]\n",
    "    event_factors = list(local[\"cat_event_type\"].unique())\n",
    "    num_events = len(event_factors)\n",
    "\n",
    "    shared_x_range = (0,16)\n",
    "    shared_y_range = (0,2)\n",
    "\n",
    "    annotation_map = {\n",
    "        \"browser_event\": {\"offset\": 0.9, \"icon\": \"⌕\"},\n",
    "        \"api_call\": {\"offset\": -0.3, \"icon\": \"⚡︎\"},\n",
    "        \"button_press\": {\"offset\": 0.3, \"icon\": \"▶\"},\n",
    "        \"paste\": {\"offset\": -0.6, \"icon\": \"⤵\"},\n",
    "        \"cut/copy\": {\"offset\": 0.6, \"icon\": \"✂\"},\n",
    "    }\n",
    "    \n",
    "    for key, val in annotation_map.items():\n",
    "        print(f'{val[\"icon\"]} - {key}')\n",
    "\n",
    "\n",
    "    def make_stage_plot(stage, x_range, show_legend=False):\n",
    "\n",
    "        stage_data = local.loc[local[\"stage\"] == stage].copy()\n",
    "        stage_data[\"y\"] = 1\n",
    "\n",
    "        source = ColumnDataSource(data=stage_data)\n",
    "\n",
    "        p = figure(\n",
    "            width=800, \n",
    "            height=150,\n",
    "            x_range=x_range,\n",
    "            y_range=shared_y_range,\n",
    "            title=f\"Stage: {stage}\",\n",
    "            x_axis_label=\"Minutes from Stage Start\",\n",
    "            y_axis_label=\"\"\n",
    "        )\n",
    "\n",
    "        p.scatter(\n",
    "            x=\"minutes_from_stage_start\", \n",
    "            y=\"y\",\n",
    "            color=factor_cmap('cat_event_type', f'Category10_{num_events}', event_factors),\n",
    "            source=source,\n",
    "            size=12,\n",
    "            fill_alpha=.5,\n",
    "            line_color=None,\n",
    "            legend_field=\"cat_event_type\"\n",
    "        )\n",
    "\n",
    "        # Add annotations\n",
    "        for event_type, props in annotation_map.items():\n",
    "            event_rows = stage_data[stage_data[\"cat_event_type\"] == event_type]\n",
    "            if event_rows.empty:\n",
    "                continue\n",
    "\n",
    "            x = event_rows[\"minutes_from_stage_start\"]\n",
    "            y0 = event_rows[\"y\"]\n",
    "            y1 = y0 + props[\"offset\"]\n",
    "\n",
    "\n",
    "            annotation_source = ColumnDataSource(data=dict(\n",
    "                x=x,\n",
    "                x2=x,\n",
    "                y0=y0,\n",
    "                y1=y1,\n",
    "                icon=[props[\"icon\"]] * len(x),\n",
    "                icon_y=y1,\n",
    "            ))\n",
    "\n",
    "            # Add line (stem)\n",
    "            p.segment(x0=\"x\", y0=\"y0\", x1=\"x2\", y1=\"y1\", source=annotation_source, \n",
    "                      line_width=1, line_color=\"grey\")\n",
    "\n",
    "            # Add icon at end\n",
    "            p.text(x=\"x\", y=\"icon_y\", text=\"icon\", source=annotation_source,\n",
    "                   text_align=\"center\", text_baseline=\"middle\", text_font_size=\"10pt\")\n",
    "\n",
    "\n",
    "\n",
    "        hover = HoverTool(tooltips=[('event_type', '@event_type')])\n",
    "        p.add_tools(hover)\n",
    "\n",
    "        if show_legend:\n",
    "            p.add_layout(p.legend[0], 'above')  # Moves legend out of main plot area\n",
    "        else:\n",
    "            p.legend.visible = False\n",
    "\n",
    "        p.yaxis.visible = False         # hides the axis (line, ticks, and labels)\n",
    "\n",
    "        return p\n",
    "\n",
    "    plots = [make_stage_plot(stage, shared_x_range, show_legend=False) for stage in stages]\n",
    "    header = Div(text=f\"<h2>Event Timeline for Participant {participant_id}</h2>\", width=800)\n",
    "    show(column(*plots))"
   ]
  },
  {
   "cell_type": "code",
   "execution_count": null,
   "id": "2eb286b0",
   "metadata": {},
   "outputs": [],
   "source": [
    "pid = \"5f48002958dd331635f1d767\""
   ]
  },
  {
   "cell_type": "code",
   "execution_count": null,
   "id": "3796bceb",
   "metadata": {},
   "outputs": [],
   "source": [
    "make_whole_timeline(pid)"
   ]
  },
  {
   "cell_type": "code",
   "execution_count": null,
   "id": "a754319a",
   "metadata": {},
   "outputs": [],
   "source": [
    "make_stages_timeline(pid)"
   ]
  },
  {
   "cell_type": "code",
   "execution_count": null,
   "id": "ccc034e4",
   "metadata": {},
   "outputs": [],
   "source": []
  },
  {
   "cell_type": "code",
   "execution_count": null,
   "id": "d3403ef2",
   "metadata": {},
   "outputs": [],
   "source": []
  },
  {
   "cell_type": "code",
   "execution_count": null,
   "id": "55cf094a",
   "metadata": {},
   "outputs": [],
   "source": []
  },
  {
   "cell_type": "code",
   "execution_count": null,
   "id": "69c3b82c",
   "metadata": {},
   "outputs": [],
   "source": []
  },
  {
   "cell_type": "code",
   "execution_count": null,
   "id": "76ec6bda",
   "metadata": {},
   "outputs": [],
   "source": []
  },
  {
   "cell_type": "code",
   "execution_count": null,
   "id": "472b43b5",
   "metadata": {},
   "outputs": [],
   "source": [
    "local = snapshots.loc[(snapshots[\"participant_id\"] == participant_id) & (snapshots[\"type\"] == \"partial\")]\n",
    "\n",
    "with pd.option_context('display.max_colwidth', None):\n",
    "  display(local)"
   ]
  },
  {
   "cell_type": "code",
   "execution_count": null,
   "id": "88bec0d7",
   "metadata": {},
   "outputs": [],
   "source": []
  }
 ],
 "metadata": {
  "kernelspec": {
   "display_name": "Python 3 (ipykernel)",
   "language": "python",
   "name": "python3"
  },
  "language_info": {
   "codemirror_mode": {
    "name": "ipython",
    "version": 3
   },
   "file_extension": ".py",
   "mimetype": "text/x-python",
   "name": "python",
   "nbconvert_exporter": "python",
   "pygments_lexer": "ipython3",
   "version": "3.9.13"
  }
 },
 "nbformat": 4,
 "nbformat_minor": 5
}
