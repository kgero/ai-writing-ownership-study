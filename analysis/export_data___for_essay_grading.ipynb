{
 "cells": [
  {
   "cell_type": "code",
   "execution_count": null,
   "id": "17b5c6a2",
   "metadata": {},
   "outputs": [],
   "source": [
    "!pip install python-docx"
   ]
  },
  {
   "cell_type": "code",
   "execution_count": null,
   "id": "92d223a2",
   "metadata": {},
   "outputs": [],
   "source": [
    "from dotenv import load_dotenv\n",
    "import pandas as pd\n",
    "\n",
    "load_dotenv()\n",
    "\n",
    "from sqlalchemy import create_engine, inspect\n",
    "import os\n",
    "\n",
    "# build URL from the locally‑forwarded port\n",
    "user     = os.getenv(\"DB_USER\")\n",
    "pw       = os.getenv(\"DB_PASSWORD\")\n",
    "host     = os.getenv(\"DB_HOST\")\n",
    "port     = os.getenv(\"DB_PORT\")\n",
    "db       = os.getenv(\"DB_NAME\")\n",
    "engine   = create_engine(f\"postgresql://{user}:{pw}@{host}:{port}/{db}\")"
   ]
  },
  {
   "cell_type": "code",
   "execution_count": null,
   "id": "face45fa",
   "metadata": {},
   "outputs": [],
   "source": [
    "snapshots = pd.read_sql(\"SELECT * FROM text_snapshots;\", engine)\n",
    "snapshots.head()"
   ]
  },
  {
   "cell_type": "code",
   "execution_count": null,
   "id": "ce67d158",
   "metadata": {},
   "outputs": [],
   "source": [
    "surveys = pd.read_sql(\"SELECT * FROM survey_responses;\", engine)\n",
    "surveys.head()"
   ]
  },
  {
   "cell_type": "code",
   "execution_count": null,
   "id": "cce97722",
   "metadata": {},
   "outputs": [],
   "source": [
    "pid_list = []\n",
    "\n",
    "with open(\"pid_accepted.txt\", \"r\") as fle:\n",
    "    for line in fle:\n",
    "        pid_list.append(line.strip())\n",
    "        \n",
    "len(pid_list), pid_list[0]"
   ]
  },
  {
   "cell_type": "code",
   "execution_count": null,
   "id": "995ff5f1",
   "metadata": {},
   "outputs": [],
   "source": [
    "essay_prompts = {\n",
    "    \"a1\": \"Should public schools ban smartphones during the school day, or permit limited use for learning and emergencies?\",\n",
    "    \"a2\": \"Should we bring back extinct species like woolly mammoths using genetic engineering, or leave extinction as a natural boundary that shouldn't be crossed?\",\n",
    "    \"a3\": \"Should large employers require workers to return to the office several days a week, or allow fully remote schedules by default?\",\n",
    "    \"b1\": \"Should parents have the right to genetically edit their unborn children to prevent diseases, or should we ban genetic modifications to preserve natural human diversity?\",\n",
    "    \"b2\": \"Should cities ban gas-powered leaf blowers to reduce noise and pollution, or leave equipment choices to homeowners and landscapers?\",\n",
    "    \"b3\": \"Should the federal government broaden student-loan forgiveness programs, or prioritize other ways of addressing education debt?\",\n",
    "}\n",
    "\n",
    "essay_prompts"
   ]
  },
  {
   "cell_type": "code",
   "execution_count": null,
   "id": "ea7ed794",
   "metadata": {},
   "outputs": [],
   "source": [
    "def get_final_essay(pid):\n",
    "    filtered = snapshots.loc[\n",
    "        (snapshots[\"participant_id\"] == pid) & \n",
    "        (snapshots[\"type\"] == \"final\") &\n",
    "        (snapshots[\"stage\"] == \"revision\")\n",
    "    ]\n",
    "    if len(filtered) == 0:\n",
    "        print(\"error: no final submission\")\n",
    "        return \"error\"\n",
    "    if len(filtered) > 1:\n",
    "        print(\"warning: more than one final submission\")\n",
    "    \n",
    "    return filtered.iloc[0][\"text_content\"]\n",
    "\n",
    "print(get_final_essay(pid_list[0]))"
   ]
  },
  {
   "cell_type": "code",
   "execution_count": null,
   "id": "ecd60987",
   "metadata": {},
   "outputs": [],
   "source": [
    "import random\n",
    "\n",
    "n = 50\n",
    "pid_sample = []\n",
    "\n",
    "for pid in random.sample(pid_list,n):\n",
    "    filtered = surveys.loc[surveys[\"participant_id\"] == pid]\n",
    "    prompt_id = filtered.iloc[0][\"prompt_id\"]\n",
    "    data = {\n",
    "        \"pid\": pid,\n",
    "        \"prompt_id\": prompt_id,\n",
    "        \"essay_prompt\": essay_prompts[prompt_id],\n",
    "        \"essay\": get_final_essay(pid)\n",
    "    }\n",
    "    pid_sample.append(data)\n",
    "\n",
    "# for data in pid_sample:\n",
    "#     print(f\"ID: {data['pid']}\\n\\nPROMPT: {data['essay_prompt']}\\n\\n----\\n\\n{data['essay']}\\n\\n----------\\n\\n\")\n"
   ]
  },
  {
   "cell_type": "code",
   "execution_count": null,
   "id": "11c8420e",
   "metadata": {},
   "outputs": [],
   "source": [
    "from docx import Document\n",
    "from docx.enum.text import WD_BREAK\n",
    "\n",
    "document = Document()\n",
    "\n",
    "for data in pid_sample:\n",
    "\n",
    "    document.add_paragraph(f\"ID: {data['pid']}\")\n",
    "    document.add_paragraph(f\"PROMPT: {data['essay_prompt']}\")\n",
    "    document.add_paragraph(\"---\")\n",
    "    document.add_paragraph(data['essay'])\n",
    "    document.add_paragraph(\"------------------\")\n",
    "\n",
    "    # Add a page break\n",
    "    paragraph = document.add_paragraph()\n",
    "    run = paragraph.add_run()\n",
    "    run.add_break(WD_BREAK.PAGE)\n",
    "\n",
    "# Save the document\n",
    "document.save(\"essays_for_grading.docx\")"
   ]
  },
  {
   "cell_type": "code",
   "execution_count": null,
   "id": "b83cca85",
   "metadata": {},
   "outputs": [],
   "source": []
  }
 ],
 "metadata": {
  "kernelspec": {
   "display_name": "Python 3 (ipykernel)",
   "language": "python",
   "name": "python3"
  },
  "language_info": {
   "codemirror_mode": {
    "name": "ipython",
    "version": 3
   },
   "file_extension": ".py",
   "mimetype": "text/x-python",
   "name": "python",
   "nbconvert_exporter": "python",
   "pygments_lexer": "ipython3",
   "version": "3.9.13"
  }
 },
 "nbformat": 4,
 "nbformat_minor": 5
}
